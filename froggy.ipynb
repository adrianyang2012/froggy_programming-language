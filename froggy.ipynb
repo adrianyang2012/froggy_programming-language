{
  "cells": [
    {
      "cell_type": "markdown",
      "metadata": {
        "id": "view-in-github",
        "colab_type": "text"
      },
      "source": [
        "<a href=\"https://colab.research.google.com/github/adrianyang2012/froggy_programming-language/blob/main/froggy.ipynb\" target=\"_parent\"><img src=\"https://colab.research.google.com/assets/colab-badge.svg\" alt=\"Open In Colab\"/></a>"
      ]
    },
    {
      "cell_type": "code",
      "execution_count": 1,
      "metadata": {
        "id": "JTIVjdjBEFDA"
      },
      "outputs": [],
      "source": [
        "programs = {}\n",
        "lines = []\n"
      ]
    },
    {
      "cell_type": "code",
      "execution_count": 4,
      "metadata": {
        "id": "shiOXhShP1Jp"
      },
      "outputs": [],
      "source": [
        "\n",
        "def special_eval(thing,varibles):\n",
        "  for varible in varibles.keys():\n",
        "    thing = thing.replace(varible,str(varibles[varible]))\n",
        "  return eval(thing)\n",
        "\n",
        "def run():\n",
        "  endline = '\\n'\n",
        "  varibles = {}\n",
        "  for i in range(0,len(lines)):\n",
        "    if lines[i][0:3] == 'say':\n",
        "      equation = 0\n",
        "      if lines[i][4:8] == 'math':\n",
        "          equation = 1\n",
        "      if equation == 1:\n",
        "\n",
        "        print(special_eval(lines[i][8:],varibles),end=endline)\n",
        "      else:\n",
        "        if lines[i][4:7] == 'str':\n",
        "          print(lines[i][8:],end=endline)\n",
        "        else:\n",
        "          try:\n",
        "            print(varibles[lines[i][4:].strip()],end=endline)\n",
        "          except:\n",
        "            print('ERROR: varible not defined')\n",
        "    elif lines[i][0:3] == 'var':\n",
        "      try:\n",
        "        equation = 0\n",
        "        pieces =  lines[i][4:].split('=')\n",
        "        pieces[1] = pieces[1].strip()\n",
        "        value = ''\n",
        "        if pieces[1][0:4] == 'math':\n",
        "          equation = 1\n",
        "        if equation == 1:\n",
        "\n",
        "          value = special_eval(pieces[1][4:],varibles)\n",
        "        else:\n",
        "          if pieces[1][0:3] == 'str':\n",
        "            value = pieces[1][4:]\n",
        "          elif pieces[1][0:3] == 'ask':\n",
        "            value = input(pieces[1][4:])\n",
        "          else:\n",
        "            try:\n",
        "              value = varibles[pieces[1][4:].strip()]\n",
        "            except Exception as e:\n",
        "              print('ERROR: varible not defined')\n",
        "\n",
        "        varibles[pieces[0].strip()] = value\n",
        "\n",
        "      except Exception as e:\n",
        "        print('ERROR: you did not put a = sign or you did not assign the varible to anything')\n",
        "        print(e)\n",
        "    elif lines[i][0:7] == 'endline':\n",
        "      if lines[i][8:10] == 'no':\n",
        "        endline = ' '\n",
        "      else:\n",
        "        endline = '\\n'\n",
        "def program():\n",
        "  i = 1\n",
        "  print('type q to quit')\n",
        "  code = []\n",
        "  while True:\n",
        "\n",
        "    line = input(f'{i}.')\n",
        "    if line == 'q':\n",
        "      break\n",
        "    i+=1\n",
        "    code.append(line)\n",
        "  programs[input('what is the name of this program')] = code\n",
        "\n",
        "\n",
        "def choose():\n",
        "  global lines\n",
        "  print('choose a program to run')\n",
        "  for i in range(0,len(programs.keys())):\n",
        "    print(f'{i+1}. {list(programs.keys())[i]}')\n",
        "  lines = programs[list(programs.keys())[int(input('which program do you want to run(type the number)'))-1]]\n"
      ]
    },
    {
      "cell_type": "code",
      "execution_count": 5,
      "metadata": {
        "colab": {
          "base_uri": "https://localhost:8080/",
          "height": 984
        },
        "id": "8ab2ciuhY56a",
        "outputId": "0eb40c7b-1d94-4d5e-954f-2a1ae419fc18"
      },
      "outputs": [
        {
          "name": "stdout",
          "output_type": "stream",
          "text": [
            "Options: (1)make a new program (2)run a program (3) quit2\n",
            "choose a program to run\n",
            "1. math\n",
            "which program do you want to run(type the number)1\n",
            "2\n",
            "2\n",
            "Options: (1)make a new program (2)run a program (3) quit2\n",
            "choose a program to run\n",
            "1. math\n",
            "which program do you want to run(type the number)1\n",
            "2\n",
            "2\n",
            "Options: (1)make a new program (2)run a program (3) quit1\n",
            "type q to quit\n",
            "1.say str this is a inches to feet converter\n",
            "2.inches = ask what is the amount of feet\n",
            "3.1\n",
            "4.q\n",
            "what is the name of this programa\n",
            "Options: (1)make a new program (2)run a program (3) quit1\n",
            "type q to quit\n",
            "1.say str this is a inches to feet coverter\n",
            "2.inches = ask what is the amount of inches\n",
            "3.say math inches/12\n",
            "4.q\n",
            "what is the name of this programinches to feet\n",
            "Options: (1)make a new program (2)run a program (3) quit2\n",
            "choose a program to run\n",
            "1. math\n",
            "2. a\n",
            "3. inches to feet\n",
            "which program do you want to run(type the number)3\n"
          ]
        },
        {
          "output_type": "error",
          "ename": "SyntaxError",
          "evalue": "ignored",
          "traceback": [
            "Traceback \u001b[0;36m(most recent call last)\u001b[0m:\n",
            "  File \u001b[1;32m\"/usr/local/lib/python3.10/dist-packages/IPython/core/interactiveshell.py\"\u001b[0m, line \u001b[1;32m3553\u001b[0m, in \u001b[1;35mrun_code\u001b[0m\n    exec(code_obj, self.user_global_ns, self.user_ns)\n",
            "  File \u001b[1;32m\"<ipython-input-5-3022e4e480f4>\"\u001b[0m, line \u001b[1;32m7\u001b[0m, in \u001b[1;35m<cell line: 1>\u001b[0m\n    run()\n",
            "  File \u001b[1;32m\"<ipython-input-4-b5c2f61140e9>\"\u001b[0m, line \u001b[1;32m16\u001b[0m, in \u001b[1;35mrun\u001b[0m\n    print(special_eval(lines[i][8:],varibles),end=endline)\n",
            "\u001b[0;36m  File \u001b[0;32m\"<ipython-input-4-b5c2f61140e9>\"\u001b[0;36m, line \u001b[0;32m4\u001b[0;36m, in \u001b[0;35mspecial_eval\u001b[0;36m\u001b[0m\n\u001b[0;31m    return eval(thing)\u001b[0m\n",
            "\u001b[0;36m  File \u001b[0;32m\"<string>\"\u001b[0;36m, line \u001b[0;32m1\u001b[0m\n\u001b[0;31m    this is a inches to feet coverter\u001b[0m\n\u001b[0m              ^\u001b[0m\n\u001b[0;31mSyntaxError\u001b[0m\u001b[0;31m:\u001b[0m invalid syntax\n"
          ]
        }
      ],
      "source": [
        "while True:\n",
        "  option = input('Options: (1)make a new program (2)run a program (3) quit')\n",
        "  if option == '1':\n",
        "    program()\n",
        "  elif option == '2':\n",
        "    choose()\n",
        "    run()\n",
        "  else:\n",
        "    break"
      ]
    },
    {
      "cell_type": "code",
      "source": [
        "special_eval('1+1',{})"
      ],
      "metadata": {
        "id": "Tyo_P4ni66HA",
        "colab": {
          "base_uri": "https://localhost:8080/"
        },
        "outputId": "7ee5f2b9-bc66-453b-ed86-fdec8665a4e2"
      },
      "execution_count": null,
      "outputs": [
        {
          "output_type": "execute_result",
          "data": {
            "text/plain": [
              "2"
            ]
          },
          "metadata": {},
          "execution_count": 11
        }
      ]
    }
  ],
  "metadata": {
    "colab": {
      "provenance": [],
      "authorship_tag": "ABX9TyN4JfB8g5he12uw3KnkSZ8C",
      "include_colab_link": true
    },
    "kernelspec": {
      "display_name": "Python 3",
      "name": "python3"
    },
    "language_info": {
      "name": "python"
    }
  },
  "nbformat": 4,
  "nbformat_minor": 0
}