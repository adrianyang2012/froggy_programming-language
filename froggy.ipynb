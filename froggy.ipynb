{
  "nbformat": 4,
  "nbformat_minor": 0,
  "metadata": {
    "colab": {
      "provenance": [],
      "authorship_tag": "ABX9TyOmLrQB0HnCJl0QLG7sK97L",
      "include_colab_link": true
    },
    "kernelspec": {
      "name": "python3",
      "display_name": "Python 3"
    },
    "language_info": {
      "name": "python"
    }
  },
  "cells": [
    {
      "cell_type": "markdown",
      "metadata": {
        "id": "view-in-github",
        "colab_type": "text"
      },
      "source": [
        "<a href=\"https://colab.research.google.com/github/adrianyang2012/froggy_programming-language/blob/main/froggy.ipynb\" target=\"_parent\"><img src=\"https://colab.research.google.com/assets/colab-badge.svg\" alt=\"Open In Colab\"/></a>"
      ]
    },
    {
      "cell_type": "code",
      "source": [
        "programs = {}\n",
        "lines = []\n",
        "equation_stuff = list('1122345677890+-*/^')"
      ],
      "metadata": {
        "id": "JTIVjdjBEFDA"
      },
      "execution_count": 15,
      "outputs": []
    },
    {
      "cell_type": "code",
      "execution_count": 16,
      "metadata": {
        "id": "shiOXhShP1Jp"
      },
      "outputs": [],
      "source": [
        "\n",
        "\n",
        "def run():\n",
        "  endline = '\\n'\n",
        "  varibles = {}\n",
        "  for i in range(0,len(lines)):\n",
        "    if lines[i][0:3] == 'say':\n",
        "      equation = 1\n",
        "      for j in range(4,len(lines[i])):\n",
        "        if lines[i][j] not in equation_stuff:\n",
        "          equation = 0\n",
        "      if equation == 1:\n",
        "\n",
        "        print(eval(lines[i][4:]),end=endline)\n",
        "      else:\n",
        "        if lines[i][4:7] == 'str':\n",
        "          print(lines[i][8:],end=endline)\n",
        "        else:\n",
        "          try:\n",
        "            print(varibles[lines[i][4:].strip()],end=endline)\n",
        "          except:\n",
        "            print('ERROR: varible not defined')\n",
        "    elif lines[i][0:3] == 'var':\n",
        "      try:\n",
        "        equation = 1\n",
        "        pieces =  lines[i][4:].split('=')\n",
        "        pieces[1] = pieces[1].strip()\n",
        "        value = ''\n",
        "        for j in range(4,len(pieces[1])):\n",
        "          if pieces[1][j] not in equation_stuff:\n",
        "            equation = 0\n",
        "        if equation == 1:\n",
        "\n",
        "          value = eval(pieces[1][4:])\n",
        "        else:\n",
        "          if pieces[1][0:3] == 'str':\n",
        "            value = pieces[1][4:]\n",
        "          elif pieces[1][0:3] == 'ask':\n",
        "            value = input(pieces[1][4:])\n",
        "          else:\n",
        "            try:\n",
        "              value = varibles[pieces[1][4:].strip()]\n",
        "            except Exception as e:\n",
        "              print('ERROR: varible not defined')\n",
        "\n",
        "        varibles[pieces[0].strip()] = value\n",
        "\n",
        "      except Exception as e:\n",
        "        print('ERROR: you did not put a = sign or you did not assign the varible to anything')\n",
        "        print(e)\n",
        "    elif lines[i][0:7] == 'endline':\n",
        "      if lines[i][8:10] == 'no':\n",
        "        endline = ' '\n",
        "      else:\n",
        "        endline = '\\n'\n",
        "def program():\n",
        "  i = 1\n",
        "  print('type q to quit')\n",
        "  code = []\n",
        "  while True:\n",
        "    line = input(f'{i}.')\n",
        "    if line == 'q':\n",
        "      break\n",
        "    code.append(line)\n",
        "  programs[input('what is the name of this program')] = code\n",
        "\n",
        "\n",
        "def choose():\n",
        "  global lines\n",
        "  print('choose a program to run')\n",
        "  for i in range(0,len(programs.keys())):\n",
        "    print(f'{i+1}. {list(programs.keys())[i]}')\n",
        "  lines = programs[list(programs.keys())[int(input('which program do you want to run(type the number)'))-1]]\n"
      ]
    },
    {
      "cell_type": "code",
      "source": [
        "while True:\n",
        "  option = input('Options: (1)make a new program (2)run a program (3) quit')\n",
        "  if option == '1':\n",
        "    program()\n",
        "  elif option == '2':\n",
        "    choose()\n",
        "    run()\n",
        "  else:\n",
        "    break"
      ],
      "metadata": {
        "id": "8ab2ciuhY56a",
        "colab": {
          "base_uri": "https://localhost:8080/"
        },
        "outputId": "a054844f-52f9-4451-ba7c-bb85b18460d5"
      },
      "execution_count": 17,
      "outputs": [
        {
          "name": "stdout",
          "output_type": "stream",
          "text": [
            "Options: (1)make a new program (2)run a program (3) quit1\n",
            "type q to quit\n",
            "1.endline no\n",
            "1.sa str hi\n",
            "1.say str hi\n",
            "1.say str stuff\n",
            "1.endline yes\n",
            "1.say str apples are yummy\n",
            "1.say str oranges are too\n",
            "1.q\n",
            "what is the name of this programtest\n",
            "Options: (1)make a new program (2)run a program (3) quit2\n",
            "choose a program to run\n",
            "1. test\n",
            "which program do you want to run(type the number)1\n",
            "hi stuff apples are yummy\n",
            "oranges are too\n",
            "Options: (1)make a new program (2)run a program (3) quit3\n"
          ]
        }
      ]
    }
  ]
}